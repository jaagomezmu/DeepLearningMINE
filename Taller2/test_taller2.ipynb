{
 "cells": [
  {
   "cell_type": "code",
   "execution_count": 1,
   "id": "06f628df-c824-4a8b-b71f-6867dc3b3694",
   "metadata": {},
   "outputs": [
    {
     "data": {
      "text/plain": [
       "313"
      ]
     },
     "metadata": {},
     "output_type": "display_data"
    }
   ],
   "source": [
    "import os\n",
    "from pathlib import Path\n",
    "import random\n",
    "import time\n",
    "\n",
    "random_state = random.randint(1,999)\n",
    "display(random_state)\n",
    "\n",
    "# COnfiguraciones para tensorflow\n",
    "os.environ['TF_ENABLE_ONEDNN_OPTS'] = '0'\n",
    "os.environ['TF_CPP_MIN_LOG_LEVEL'] = '2'"
   ]
  },
  {
   "cell_type": "code",
   "execution_count": 2,
   "id": "2eaed3f8-7122-4ab7-90db-78fd57df8153",
   "metadata": {},
   "outputs": [],
   "source": [
    "import kaggle"
   ]
  },
  {
   "cell_type": "code",
   "execution_count": 3,
   "id": "8562b1a3-21b0-4e95-a8b3-78c54aa8cf80",
   "metadata": {},
   "outputs": [
    {
     "name": "stdout",
     "output_type": "stream",
     "text": [
      "Dataset URL: https://www.kaggle.com/datasets/hasibzunair/rsud20k-bangladesh-road-scene-understanding\n"
     ]
    }
   ],
   "source": [
    "dataset = \"hasibzunair/rsud20k-bangladesh-road-scene-understanding\"\n",
    "kaggle.api.dataset_download_files(dataset, path='data/raw/data2', unzip=True)"
   ]
  },
  {
   "cell_type": "code",
   "execution_count": 4,
   "id": "33e3b25f",
   "metadata": {},
   "outputs": [
    {
     "name": "stdout",
     "output_type": "stream",
     "text": [
      "/app\n"
     ]
    }
   ],
   "source": [
    "! pwd"
   ]
  },
  {
   "cell_type": "code",
   "execution_count": 8,
   "id": "4b2378a7",
   "metadata": {},
   "outputs": [
    {
     "name": "stdout",
     "output_type": "stream",
     "text": [
      "total 4\n",
      "drwxr-xr-x 1 root root  34 Oct  5 20:18 .\n",
      "drwxr-xr-x 1 root root 108 Oct  5 20:18 ..\n",
      "-rw-r--r-- 1 root root 134 Oct  5 20:18 classes.txt\n",
      "drwxr-xr-x 1 root root  24 Oct  5 20:19 images\n"
     ]
    }
   ],
   "source": [
    "! ls -la data/raw/data2/rsud20k"
   ]
  },
  {
   "cell_type": "code",
   "execution_count": 10,
   "id": "960dacfd",
   "metadata": {},
   "outputs": [
    {
     "name": "stdout",
     "output_type": "stream",
     "text": [
      "person\n",
      "rickshaw\n",
      "rickshaw van\n",
      "auto rickshaw\n",
      "truck\n",
      "pickup truck\n",
      "private car\n",
      "motorcycle\n",
      "bicycle\n",
      "bus\n",
      "micro bus\n",
      "covered van\n",
      "human hauler\n",
      "\n",
      "\n"
     ]
    }
   ],
   "source": [
    "! cat data/raw/data2/rsud20k/classes.txt"
   ]
  },
  {
   "cell_type": "code",
   "execution_count": 11,
   "id": "d6dd13ac",
   "metadata": {},
   "outputs": [
    {
     "name": "stdout",
     "output_type": "stream",
     "text": [
      "total 0\n",
      "drwxr-xr-x 1 root root     24 Oct  5 20:19 .\n",
      "drwxr-xr-x 1 root root     34 Oct  5 20:18 ..\n",
      "drwxr-xr-x 1 root root  14058 Oct  5 20:18 test\n",
      "drwxr-xr-x 1 root root 501002 Oct  5 20:19 train\n",
      "drwxr-xr-x 1 root root   3770 Oct  5 20:19 val\n"
     ]
    }
   ],
   "source": [
    "! ls -la data/raw/data2/rsud20k/images/"
   ]
  },
  {
   "cell_type": "code",
   "execution_count": null,
   "id": "7f3506c2",
   "metadata": {},
   "outputs": [],
   "source": []
  }
 ],
 "metadata": {
  "kernelspec": {
   "display_name": "Python 3 (ipykernel)",
   "language": "python",
   "name": "python3"
  },
  "language_info": {
   "codemirror_mode": {
    "name": "ipython",
    "version": 3
   },
   "file_extension": ".py",
   "mimetype": "text/x-python",
   "name": "python",
   "nbconvert_exporter": "python",
   "pygments_lexer": "ipython3",
   "version": "3.9.16"
  }
 },
 "nbformat": 4,
 "nbformat_minor": 5
}
